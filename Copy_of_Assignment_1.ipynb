{
  "nbformat": 4,
  "nbformat_minor": 0,
  "metadata": {
    "colab": {
      "provenance": [],
      "collapsed_sections": []
    },
    "kernelspec": {
      "name": "python3",
      "display_name": "Python 3"
    },
    "language_info": {
      "name": "python"
    }
  },
  "cells": [
    {
      "cell_type": "markdown",
      "source": [
        "# Basic Python"
      ],
      "metadata": {
        "id": "McSxJAwcOdZ1"
      }
    },
    {
      "cell_type": "markdown",
      "source": [
        "## 1. Split this string"
      ],
      "metadata": {
        "id": "CU48hgo4Owz5"
      }
    },
    {
      "cell_type": "code",
      "source": [
        "s = \"Hi there Sam!\""
      ],
      "metadata": {
        "id": "s07c7JK7Oqt-"
      },
      "execution_count": null,
      "outputs": []
    },
    {
      "cell_type": "code",
      "source": [
        "s=\"hi there sam!\"\n",
        "t=s.split()\n",
        "print(t)"
      ],
      "metadata": {
        "id": "6mGVa3SQYLkb",
        "colab": {
          "base_uri": "https://localhost:8080/"
        },
        "outputId": "f47471bc-e7e2-4508-cffd-76e15b7698b9"
      },
      "execution_count": null,
      "outputs": [
        {
          "output_type": "stream",
          "name": "stdout",
          "text": [
            "['hi', 'there', 'sam!']\n"
          ]
        }
      ]
    },
    {
      "cell_type": "markdown",
      "source": [
        "## 2. Use .format() to print the following string. \n",
        "\n",
        "### Output should be: The diameter of Earth is 12742 kilometers."
      ],
      "metadata": {
        "id": "GH1QBn8HP375"
      }
    },
    {
      "cell_type": "code",
      "source": [
        "planet = \"Earth\"\n",
        "diameter=12742"
      ],
      "metadata": {
        "id": "_ZHoml3kPqic"
      },
      "execution_count": null,
      "outputs": []
    },
    {
      "cell_type": "code",
      "source": [
        "planet=\"Earth\"\n",
        "diameter=12742\n",
        "print(\"the diameter of {} is {} kilometer,\".format(planet,diameter));\n"
      ],
      "metadata": {
        "id": "HyRyJv6CYPb4",
        "colab": {
          "base_uri": "https://localhost:8080/"
        },
        "outputId": "2db79a02-2f17-4466-c230-5710b27adcdd"
      },
      "execution_count": null,
      "outputs": [
        {
          "output_type": "stream",
          "name": "stdout",
          "text": [
            "the diameter of Earth is 12742 kilometer,\n"
          ]
        }
      ]
    },
    {
      "cell_type": "markdown",
      "source": [
        "## 3. In this nest dictionary grab the word \"hello\""
      ],
      "metadata": {
        "id": "KE74ZEwkRExZ"
      }
    },
    {
      "cell_type": "code",
      "source": [
        "d = {'k1':[1,2,3,{'tricky':['oh','man','inception',{'target':[1,2,3,'hello']}]}]}"
      ],
      "metadata": {
        "id": "fcVwbCc1QrQI"
      },
      "execution_count": null,
      "outputs": []
    },
    {
      "cell_type": "code",
      "source": [
        "d = {'k1':[1,2,3,{'tricky':['oh','man','inception',{'target':[1,2,3,'hello']}]}]}\n",
        "print(d['k1'][3][\"tricky\"][3]['target'][3])\n"
      ],
      "metadata": {
        "colab": {
          "base_uri": "https://localhost:8080/"
        },
        "id": "jBpuxcFtBRbk",
        "outputId": "bc34cd33-7ea2-44d0-e204-2db88442cbc4"
      },
      "execution_count": null,
      "outputs": [
        {
          "output_type": "stream",
          "name": "stdout",
          "text": [
            "hello\n"
          ]
        }
      ]
    },
    {
      "cell_type": "code",
      "source": [],
      "metadata": {
        "id": "-o0Pyo0YBRZ0"
      },
      "execution_count": null,
      "outputs": []
    },
    {
      "cell_type": "code",
      "source": [],
      "metadata": {
        "id": "MvbkMZpXYRaw"
      },
      "execution_count": null,
      "outputs": []
    },
    {
      "cell_type": "markdown",
      "source": [
        "# Numpy"
      ],
      "metadata": {
        "id": "bw0vVp-9ddjv"
      }
    },
    {
      "cell_type": "code",
      "source": [
        "import numpy as np\n"
      ],
      "metadata": {
        "id": "LLiE_TYrhA1O"
      },
      "execution_count": null,
      "outputs": []
    },
    {
      "cell_type": "markdown",
      "source": [
        "## 4.1 Create an array of 10 zeros? \n",
        "## 4.2 Create an array of 10 fives?"
      ],
      "metadata": {
        "id": "wOg8hinbgx30"
      }
    },
    {
      "cell_type": "code",
      "source": [
        "import numpy as np\n",
        "array=np.zeros(10)\n",
        "print(\"An array of 10 zeros:\")\n",
        "print(array)\n"
      ],
      "metadata": {
        "id": "NHrirmgCYXvU",
        "colab": {
          "base_uri": "https://localhost:8080/"
        },
        "outputId": "acf8b257-ef2a-4a7b-ede3-1c7029cc1674"
      },
      "execution_count": null,
      "outputs": [
        {
          "output_type": "stream",
          "name": "stdout",
          "text": [
            "An array of 10 zeros:\n",
            "[0. 0. 0. 0. 0. 0. 0. 0. 0. 0.]\n"
          ]
        }
      ]
    },
    {
      "cell_type": "code",
      "source": [
        "import numpy as np\n",
        "array=np.ones(10)*5\n",
        "print(\"An array of 10 fives:\")\n",
        "print(array)\n",
        "\n",
        "\n"
      ],
      "metadata": {
        "id": "e4005lsTYXxx",
        "colab": {
          "base_uri": "https://localhost:8080/"
        },
        "outputId": "8e72ac0c-a4c6-43f6-8d47-5a45aa72c77d"
      },
      "execution_count": null,
      "outputs": [
        {
          "output_type": "stream",
          "name": "stdout",
          "text": [
            "An array of 10 fives:\n",
            "[5. 5. 5. 5. 5. 5. 5. 5. 5. 5.]\n"
          ]
        }
      ]
    },
    {
      "cell_type": "markdown",
      "source": [
        "## 5. Create an array of all the even integers from 20 to 35"
      ],
      "metadata": {
        "id": "gZHHDUBvrMX4"
      }
    },
    {
      "cell_type": "code",
      "source": [
        "import numpy as np\n",
        "array=np.arange(20,35,2)\n",
        "print(\"Array of all the even integers from 30 to 70\")\n",
        "print(array) \n"
      ],
      "metadata": {
        "id": "oAI2tbU2Yag-",
        "colab": {
          "base_uri": "https://localhost:8080/"
        },
        "outputId": "9bd731f0-cbe6-4e8b-8c77-c90cc21f605e"
      },
      "execution_count": null,
      "outputs": [
        {
          "output_type": "stream",
          "name": "stdout",
          "text": [
            "Array of all the even integers from 30 to 70\n",
            "[20 22 24 26 28 30 32 34]\n"
          ]
        }
      ]
    },
    {
      "cell_type": "markdown",
      "source": [
        "## 6. Create a 3x3 matrix with values ranging from 0 to 8"
      ],
      "metadata": {
        "id": "NaOM308NsRpZ"
      }
    },
    {
      "cell_type": "code",
      "source": [
        "import numpy as np\n",
        "np.arange(0,9).reshape((3,3))\n",
        "\n"
      ],
      "metadata": {
        "id": "tOlEVH7BYceE",
        "colab": {
          "base_uri": "https://localhost:8080/"
        },
        "outputId": "e78116c9-4057-4000-b339-f3f96f606262"
      },
      "execution_count": null,
      "outputs": [
        {
          "output_type": "execute_result",
          "data": {
            "text/plain": [
              "array([[0, 1, 2],\n",
              "       [3, 4, 5],\n",
              "       [6, 7, 8]])"
            ]
          },
          "metadata": {},
          "execution_count": 16
        }
      ]
    },
    {
      "cell_type": "markdown",
      "source": [
        "## 7. Concatenate a and b \n",
        "## a = np.array([1, 2, 3]), b = np.array([4, 5, 6])"
      ],
      "metadata": {
        "id": "hQ0dnhAQuU_p"
      }
    },
    {
      "cell_type": "code",
      "source": [
        "import numpy as np\n",
        "a=np.array([1,2,3])\n",
        "b=np.array([4,5,6])\n",
        "np.concatenate((a,b))"
      ],
      "metadata": {
        "id": "rAPSw97aYfE0",
        "colab": {
          "base_uri": "https://localhost:8080/"
        },
        "outputId": "a6f2936d-b4b1-43ff-a3ac-ffbb4fbd6fea"
      },
      "execution_count": 4,
      "outputs": [
        {
          "output_type": "execute_result",
          "data": {
            "text/plain": [
              "array([1, 2, 3, 4, 5, 6])"
            ]
          },
          "metadata": {},
          "execution_count": 4
        }
      ]
    },
    {
      "cell_type": "markdown",
      "source": [
        "# Pandas"
      ],
      "metadata": {
        "id": "dlPEY9DRwZga"
      }
    },
    {
      "cell_type": "markdown",
      "source": [
        "## 8. Create a dataframe with 3 rows and 2 columns"
      ],
      "metadata": {
        "id": "ijoYW51zwr87"
      }
    },
    {
      "cell_type": "code",
      "source": [
        "import pandas as pd\n",
        "data = [['parkavi', 10], ['asha', 15], ['juli', 14]]\n",
        "df = pd.DataFrame(data, columns=['Name', 'Age'])\n",
        "df\n"
      ],
      "metadata": {
        "id": "T5OxJRZ8uvR7",
        "colab": {
          "base_uri": "https://localhost:8080/",
          "height": 143
        },
        "outputId": "3734e752-3287-4fd2-a936-28c1ad7b8858"
      },
      "execution_count": null,
      "outputs": [
        {
          "output_type": "execute_result",
          "data": {
            "text/plain": [
              "      Name  Age\n",
              "0  parkavi   10\n",
              "1     asha   15\n",
              "2     juli   14"
            ],
            "text/html": [
              "\n",
              "  <div id=\"df-17991088-ea01-4c06-aac7-8426e188b177\">\n",
              "    <div class=\"colab-df-container\">\n",
              "      <div>\n",
              "<style scoped>\n",
              "    .dataframe tbody tr th:only-of-type {\n",
              "        vertical-align: middle;\n",
              "    }\n",
              "\n",
              "    .dataframe tbody tr th {\n",
              "        vertical-align: top;\n",
              "    }\n",
              "\n",
              "    .dataframe thead th {\n",
              "        text-align: right;\n",
              "    }\n",
              "</style>\n",
              "<table border=\"1\" class=\"dataframe\">\n",
              "  <thead>\n",
              "    <tr style=\"text-align: right;\">\n",
              "      <th></th>\n",
              "      <th>Name</th>\n",
              "      <th>Age</th>\n",
              "    </tr>\n",
              "  </thead>\n",
              "  <tbody>\n",
              "    <tr>\n",
              "      <th>0</th>\n",
              "      <td>parkavi</td>\n",
              "      <td>10</td>\n",
              "    </tr>\n",
              "    <tr>\n",
              "      <th>1</th>\n",
              "      <td>asha</td>\n",
              "      <td>15</td>\n",
              "    </tr>\n",
              "    <tr>\n",
              "      <th>2</th>\n",
              "      <td>juli</td>\n",
              "      <td>14</td>\n",
              "    </tr>\n",
              "  </tbody>\n",
              "</table>\n",
              "</div>\n",
              "      <button class=\"colab-df-convert\" onclick=\"convertToInteractive('df-17991088-ea01-4c06-aac7-8426e188b177')\"\n",
              "              title=\"Convert this dataframe to an interactive table.\"\n",
              "              style=\"display:none;\">\n",
              "        \n",
              "  <svg xmlns=\"http://www.w3.org/2000/svg\" height=\"24px\"viewBox=\"0 0 24 24\"\n",
              "       width=\"24px\">\n",
              "    <path d=\"M0 0h24v24H0V0z\" fill=\"none\"/>\n",
              "    <path d=\"M18.56 5.44l.94 2.06.94-2.06 2.06-.94-2.06-.94-.94-2.06-.94 2.06-2.06.94zm-11 1L8.5 8.5l.94-2.06 2.06-.94-2.06-.94L8.5 2.5l-.94 2.06-2.06.94zm10 10l.94 2.06.94-2.06 2.06-.94-2.06-.94-.94-2.06-.94 2.06-2.06.94z\"/><path d=\"M17.41 7.96l-1.37-1.37c-.4-.4-.92-.59-1.43-.59-.52 0-1.04.2-1.43.59L10.3 9.45l-7.72 7.72c-.78.78-.78 2.05 0 2.83L4 21.41c.39.39.9.59 1.41.59.51 0 1.02-.2 1.41-.59l7.78-7.78 2.81-2.81c.8-.78.8-2.07 0-2.86zM5.41 20L4 18.59l7.72-7.72 1.47 1.35L5.41 20z\"/>\n",
              "  </svg>\n",
              "      </button>\n",
              "      \n",
              "  <style>\n",
              "    .colab-df-container {\n",
              "      display:flex;\n",
              "      flex-wrap:wrap;\n",
              "      gap: 12px;\n",
              "    }\n",
              "\n",
              "    .colab-df-convert {\n",
              "      background-color: #E8F0FE;\n",
              "      border: none;\n",
              "      border-radius: 50%;\n",
              "      cursor: pointer;\n",
              "      display: none;\n",
              "      fill: #1967D2;\n",
              "      height: 32px;\n",
              "      padding: 0 0 0 0;\n",
              "      width: 32px;\n",
              "    }\n",
              "\n",
              "    .colab-df-convert:hover {\n",
              "      background-color: #E2EBFA;\n",
              "      box-shadow: 0px 1px 2px rgba(60, 64, 67, 0.3), 0px 1px 3px 1px rgba(60, 64, 67, 0.15);\n",
              "      fill: #174EA6;\n",
              "    }\n",
              "\n",
              "    [theme=dark] .colab-df-convert {\n",
              "      background-color: #3B4455;\n",
              "      fill: #D2E3FC;\n",
              "    }\n",
              "\n",
              "    [theme=dark] .colab-df-convert:hover {\n",
              "      background-color: #434B5C;\n",
              "      box-shadow: 0px 1px 3px 1px rgba(0, 0, 0, 0.15);\n",
              "      filter: drop-shadow(0px 1px 2px rgba(0, 0, 0, 0.3));\n",
              "      fill: #FFFFFF;\n",
              "    }\n",
              "  </style>\n",
              "\n",
              "      <script>\n",
              "        const buttonEl =\n",
              "          document.querySelector('#df-17991088-ea01-4c06-aac7-8426e188b177 button.colab-df-convert');\n",
              "        buttonEl.style.display =\n",
              "          google.colab.kernel.accessAllowed ? 'block' : 'none';\n",
              "\n",
              "        async function convertToInteractive(key) {\n",
              "          const element = document.querySelector('#df-17991088-ea01-4c06-aac7-8426e188b177');\n",
              "          const dataTable =\n",
              "            await google.colab.kernel.invokeFunction('convertToInteractive',\n",
              "                                                     [key], {});\n",
              "          if (!dataTable) return;\n",
              "\n",
              "          const docLinkHtml = 'Like what you see? Visit the ' +\n",
              "            '<a target=\"_blank\" href=https://colab.research.google.com/notebooks/data_table.ipynb>data table notebook</a>'\n",
              "            + ' to learn more about interactive tables.';\n",
              "          element.innerHTML = '';\n",
              "          dataTable['output_type'] = 'display_data';\n",
              "          await google.colab.output.renderOutput(dataTable, element);\n",
              "          const docLink = document.createElement('div');\n",
              "          docLink.innerHTML = docLinkHtml;\n",
              "          element.appendChild(docLink);\n",
              "        }\n",
              "      </script>\n",
              "    </div>\n",
              "  </div>\n",
              "  "
            ]
          },
          "metadata": {},
          "execution_count": 19
        }
      ]
    },
    {
      "cell_type": "code",
      "source": [],
      "metadata": {
        "id": "xNpI_XXoYhs0"
      },
      "execution_count": null,
      "outputs": []
    },
    {
      "cell_type": "markdown",
      "source": [
        "## 9. Generate the series of dates from 1st Jan, 2023 to 10th Feb, 2023"
      ],
      "metadata": {
        "id": "UXSmdNclyJQD"
      }
    },
    {
      "cell_type": "code",
      "source": [
        "import pandas as pd\n",
        "per1 = pd.date_range(start ='1-1-2023',\n",
        "\t\tend ='02-10-2023', freq ='5H')\n",
        "for val in per1:\n",
        "\tprint(val)\n"
      ],
      "metadata": {
        "id": "dgyC0JhVYl4F",
        "colab": {
          "base_uri": "https://localhost:8080/"
        },
        "outputId": "a860b35f-bb42-493c-d53c-d27b6871357d"
      },
      "execution_count": null,
      "outputs": [
        {
          "output_type": "stream",
          "name": "stdout",
          "text": [
            "2023-01-01 00:00:00\n",
            "2023-01-01 05:00:00\n",
            "2023-01-01 10:00:00\n",
            "2023-01-01 15:00:00\n",
            "2023-01-01 20:00:00\n",
            "2023-01-02 01:00:00\n",
            "2023-01-02 06:00:00\n",
            "2023-01-02 11:00:00\n",
            "2023-01-02 16:00:00\n",
            "2023-01-02 21:00:00\n",
            "2023-01-03 02:00:00\n",
            "2023-01-03 07:00:00\n",
            "2023-01-03 12:00:00\n",
            "2023-01-03 17:00:00\n",
            "2023-01-03 22:00:00\n",
            "2023-01-04 03:00:00\n",
            "2023-01-04 08:00:00\n",
            "2023-01-04 13:00:00\n",
            "2023-01-04 18:00:00\n",
            "2023-01-04 23:00:00\n",
            "2023-01-05 04:00:00\n",
            "2023-01-05 09:00:00\n",
            "2023-01-05 14:00:00\n",
            "2023-01-05 19:00:00\n",
            "2023-01-06 00:00:00\n",
            "2023-01-06 05:00:00\n",
            "2023-01-06 10:00:00\n",
            "2023-01-06 15:00:00\n",
            "2023-01-06 20:00:00\n",
            "2023-01-07 01:00:00\n",
            "2023-01-07 06:00:00\n",
            "2023-01-07 11:00:00\n",
            "2023-01-07 16:00:00\n",
            "2023-01-07 21:00:00\n",
            "2023-01-08 02:00:00\n",
            "2023-01-08 07:00:00\n",
            "2023-01-08 12:00:00\n",
            "2023-01-08 17:00:00\n",
            "2023-01-08 22:00:00\n",
            "2023-01-09 03:00:00\n",
            "2023-01-09 08:00:00\n",
            "2023-01-09 13:00:00\n",
            "2023-01-09 18:00:00\n",
            "2023-01-09 23:00:00\n",
            "2023-01-10 04:00:00\n",
            "2023-01-10 09:00:00\n",
            "2023-01-10 14:00:00\n",
            "2023-01-10 19:00:00\n",
            "2023-01-11 00:00:00\n",
            "2023-01-11 05:00:00\n",
            "2023-01-11 10:00:00\n",
            "2023-01-11 15:00:00\n",
            "2023-01-11 20:00:00\n",
            "2023-01-12 01:00:00\n",
            "2023-01-12 06:00:00\n",
            "2023-01-12 11:00:00\n",
            "2023-01-12 16:00:00\n",
            "2023-01-12 21:00:00\n",
            "2023-01-13 02:00:00\n",
            "2023-01-13 07:00:00\n",
            "2023-01-13 12:00:00\n",
            "2023-01-13 17:00:00\n",
            "2023-01-13 22:00:00\n",
            "2023-01-14 03:00:00\n",
            "2023-01-14 08:00:00\n",
            "2023-01-14 13:00:00\n",
            "2023-01-14 18:00:00\n",
            "2023-01-14 23:00:00\n",
            "2023-01-15 04:00:00\n",
            "2023-01-15 09:00:00\n",
            "2023-01-15 14:00:00\n",
            "2023-01-15 19:00:00\n",
            "2023-01-16 00:00:00\n",
            "2023-01-16 05:00:00\n",
            "2023-01-16 10:00:00\n",
            "2023-01-16 15:00:00\n",
            "2023-01-16 20:00:00\n",
            "2023-01-17 01:00:00\n",
            "2023-01-17 06:00:00\n",
            "2023-01-17 11:00:00\n",
            "2023-01-17 16:00:00\n",
            "2023-01-17 21:00:00\n",
            "2023-01-18 02:00:00\n",
            "2023-01-18 07:00:00\n",
            "2023-01-18 12:00:00\n",
            "2023-01-18 17:00:00\n",
            "2023-01-18 22:00:00\n",
            "2023-01-19 03:00:00\n",
            "2023-01-19 08:00:00\n",
            "2023-01-19 13:00:00\n",
            "2023-01-19 18:00:00\n",
            "2023-01-19 23:00:00\n",
            "2023-01-20 04:00:00\n",
            "2023-01-20 09:00:00\n",
            "2023-01-20 14:00:00\n",
            "2023-01-20 19:00:00\n",
            "2023-01-21 00:00:00\n",
            "2023-01-21 05:00:00\n",
            "2023-01-21 10:00:00\n",
            "2023-01-21 15:00:00\n",
            "2023-01-21 20:00:00\n",
            "2023-01-22 01:00:00\n",
            "2023-01-22 06:00:00\n",
            "2023-01-22 11:00:00\n",
            "2023-01-22 16:00:00\n",
            "2023-01-22 21:00:00\n",
            "2023-01-23 02:00:00\n",
            "2023-01-23 07:00:00\n",
            "2023-01-23 12:00:00\n",
            "2023-01-23 17:00:00\n",
            "2023-01-23 22:00:00\n",
            "2023-01-24 03:00:00\n",
            "2023-01-24 08:00:00\n",
            "2023-01-24 13:00:00\n",
            "2023-01-24 18:00:00\n",
            "2023-01-24 23:00:00\n",
            "2023-01-25 04:00:00\n",
            "2023-01-25 09:00:00\n",
            "2023-01-25 14:00:00\n",
            "2023-01-25 19:00:00\n",
            "2023-01-26 00:00:00\n",
            "2023-01-26 05:00:00\n",
            "2023-01-26 10:00:00\n",
            "2023-01-26 15:00:00\n",
            "2023-01-26 20:00:00\n",
            "2023-01-27 01:00:00\n",
            "2023-01-27 06:00:00\n",
            "2023-01-27 11:00:00\n",
            "2023-01-27 16:00:00\n",
            "2023-01-27 21:00:00\n",
            "2023-01-28 02:00:00\n",
            "2023-01-28 07:00:00\n",
            "2023-01-28 12:00:00\n",
            "2023-01-28 17:00:00\n",
            "2023-01-28 22:00:00\n",
            "2023-01-29 03:00:00\n",
            "2023-01-29 08:00:00\n",
            "2023-01-29 13:00:00\n",
            "2023-01-29 18:00:00\n",
            "2023-01-29 23:00:00\n",
            "2023-01-30 04:00:00\n",
            "2023-01-30 09:00:00\n",
            "2023-01-30 14:00:00\n",
            "2023-01-30 19:00:00\n",
            "2023-01-31 00:00:00\n",
            "2023-01-31 05:00:00\n",
            "2023-01-31 10:00:00\n",
            "2023-01-31 15:00:00\n",
            "2023-01-31 20:00:00\n",
            "2023-02-01 01:00:00\n",
            "2023-02-01 06:00:00\n",
            "2023-02-01 11:00:00\n",
            "2023-02-01 16:00:00\n",
            "2023-02-01 21:00:00\n",
            "2023-02-02 02:00:00\n",
            "2023-02-02 07:00:00\n",
            "2023-02-02 12:00:00\n",
            "2023-02-02 17:00:00\n",
            "2023-02-02 22:00:00\n",
            "2023-02-03 03:00:00\n",
            "2023-02-03 08:00:00\n",
            "2023-02-03 13:00:00\n",
            "2023-02-03 18:00:00\n",
            "2023-02-03 23:00:00\n",
            "2023-02-04 04:00:00\n",
            "2023-02-04 09:00:00\n",
            "2023-02-04 14:00:00\n",
            "2023-02-04 19:00:00\n",
            "2023-02-05 00:00:00\n",
            "2023-02-05 05:00:00\n",
            "2023-02-05 10:00:00\n",
            "2023-02-05 15:00:00\n",
            "2023-02-05 20:00:00\n",
            "2023-02-06 01:00:00\n",
            "2023-02-06 06:00:00\n",
            "2023-02-06 11:00:00\n",
            "2023-02-06 16:00:00\n",
            "2023-02-06 21:00:00\n",
            "2023-02-07 02:00:00\n",
            "2023-02-07 07:00:00\n",
            "2023-02-07 12:00:00\n",
            "2023-02-07 17:00:00\n",
            "2023-02-07 22:00:00\n",
            "2023-02-08 03:00:00\n",
            "2023-02-08 08:00:00\n",
            "2023-02-08 13:00:00\n",
            "2023-02-08 18:00:00\n",
            "2023-02-08 23:00:00\n",
            "2023-02-09 04:00:00\n",
            "2023-02-09 09:00:00\n",
            "2023-02-09 14:00:00\n",
            "2023-02-09 19:00:00\n",
            "2023-02-10 00:00:00\n"
          ]
        }
      ]
    },
    {
      "cell_type": "markdown",
      "source": [
        "## 10. Create 2D list to DataFrame\n",
        "\n",
        "lists = [[1, 'aaa', 22],\n",
        "         [2, 'bbb', 25],\n",
        "         [3, 'ccc', 24]]"
      ],
      "metadata": {
        "id": "ZizSetD-y5az"
      }
    },
    {
      "cell_type": "code",
      "source": [
        "lists = [[1, 'aaa', 22], [2, 'bbb', 25], [3, 'ccc', 24]]"
      ],
      "metadata": {
        "id": "_XMC8aEt0llB"
      },
      "execution_count": null,
      "outputs": []
    },
    {
      "cell_type": "code",
      "source": [
        "import pandas as pd \n",
        "lists = [[1, 'aaa', 22], [2, 'bbb', 25], [3, 'ccc', 24]]\n",
        "df=pd.DataFrame(lists, columns=['FName','LName','Age'],) \n",
        "print(df)\n"
      ],
      "metadata": {
        "id": "knH76sDKYsVX",
        "colab": {
          "base_uri": "https://localhost:8080/"
        },
        "outputId": "837cf892-1b12-4d58-dcff-2af1f0c5ef31"
      },
      "execution_count": null,
      "outputs": [
        {
          "output_type": "stream",
          "name": "stdout",
          "text": [
            "   FName LName  Age\n",
            "0      1   aaa   22\n",
            "1      2   bbb   25\n",
            "2      3   ccc   24\n"
          ]
        }
      ]
    }
  ]
}