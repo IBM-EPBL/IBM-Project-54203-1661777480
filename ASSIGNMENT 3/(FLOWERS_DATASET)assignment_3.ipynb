{
  "cells": [
    {
      "cell_type": "code",
      "source": [
        "pwd"
      ],
      "metadata": {
        "id": "JtLZwAzD6HEN",
        "outputId": "b173e085-edbf-4dd8-815e-67ca5ded4645",
        "colab": {
          "base_uri": "https://localhost:8080/",
          "height": 36
        }
      },
      "execution_count": null,
      "outputs": [
        {
          "output_type": "execute_result",
          "data": {
            "text/plain": [
              "'/content/drive/MyDrive'"
            ],
            "application/vnd.google.colaboratory.intrinsic+json": {
              "type": "string"
            }
          },
          "metadata": {},
          "execution_count": 70
        }
      ]
    },
    {
      "cell_type": "code",
      "source": [
        "ls"
      ],
      "metadata": {
        "id": "C7zooMTa6Ka-",
        "outputId": "3893be60-e097-4dcb-9fb0-a8f9a14027fa",
        "colab": {
          "base_uri": "https://localhost:8080/"
        }
      },
      "execution_count": null,
      "outputs": [
        {
          "output_type": "stream",
          "name": "stdout",
          "text": [
            " 11th_English_EM_Sigarum_toduvom_by_Jeeva.pdf\n",
            " 1615209687936.docx\n",
            " 16IT014_022_025_ProjectReport.docx\n",
            " 16IT014_022_025_ProjectReport.pdf\n",
            " 16IT014_022_025_Viva.pptx\n",
            " 1b36661ece7e9a9dccfa88dd8f39c361.jpg\n",
            "'4007 (Dharsa MD ) CN (1).pdf'\n",
            "'4007 (Dharsa MD ) CN (2).pdf'\n",
            "'4007 (Dharsa MD ) CN (3).pdf'\n",
            "'4007 (Dharsa MD ) CN.pdf'\n",
            "'4007(Dharsa MD ) CS8501.pdf'\n",
            "'4007(Dharsa MD) Maths Assignment .pdf'\n",
            "'4007( Dharsa MD ) OMD552.pdf'\n",
            "'4007(M.D.Dharsa) CIT-3 CSC 2nd year (3).pdf'\n",
            " 4AUMS.pdf\n",
            "'910719104007-CN assignment (1).pdf'\n",
            "'910719104007-CN assignment.pdf'\n",
            "'910719104007(CS8491) (1).pdf'\n",
            "'910719104007(CS8491) (2).pdf'\n",
            "'910719104007(CS8491) (3).pdf'\n",
            "'910719104007(CS8491).pdf'\n",
            "'(910719104007)(CS8493).pdf'\n",
            "'(910719104007)(CS8494) (1).pdf'\n",
            "'(910719104007)(CS8494) (2).pdf'\n",
            "'(910719104007)(CS8494) (3).pdf'\n",
            "'(910719104007)(CS8494) (4).pdf'\n",
            "'(910719104007)(CS8494) (5).pdf'\n",
            "'(910719104007)(CS8494).pdf'\n",
            " 910719104007_CS8591.pdf\n",
            "'910719104007(HS8381) .pdf'\n",
            "'910719104007(MA8402) .pdf'\n",
            "'assignment 3 (1).ipynb'\n",
            "'Assignment_3 (1).ipynb'\n",
            "'assignment 3.ipynb'\n",
            " Assignment_3.ipynb\n",
            "'CA-U-4-QA (1).pdf'\n",
            "'CA-U-4-QA (2).pdf'\n",
            " CA-U-4-QA.pdf\n",
            "'certificate (8).pdf'\n",
            "'CIT -2 probablity.gdoc'\n",
            " \u001b[0m\u001b[01;34mClassroom\u001b[0m/\n",
            "\u001b[01;34m'Colab Notebooks'\u001b[0m/\n",
            "'DAA CIT-1.pdf'\n",
            "'Database management system unit 1 .pdf'\n",
            "'DCB BANK MOD 2021 02 KARTHICK_Updated.docx'\n",
            "'Dharsa MD (2Yr cse) .pdf'\n",
            "'Dharsa MD.pdf'\n",
            "'DHARSA MD RESUME 2022 (1).docx'\n",
            "'DHARSA MD RESUME 2022 (2).docx'\n",
            "'DHARSA MD RESUME 2022 (3).docx'\n",
            "'DHARSA MD RESUME 2022.docx'\n",
            "'E-book management system ppt.pptx'\n",
            "'Elec rules 3.jpg'\n",
            "'ex .jpg'\n",
            "'file_1617268258065 (1).pdf'\n",
            "'file_1617268258065 (2).pdf'\n",
            "'file_1617268258065 (3).pdf'\n",
            " file_1617268258065.pdf\n",
            " \u001b[01;34mflowers\u001b[0m/\n",
            " Flowers-Dataset.zip\n",
            " flowers.h5\n",
            " \u001b[01;34mflowers.hs\u001b[0m/\n",
            "'Getting started.pdf'\n",
            "'HARISH BABU N K-ECE-VCET-RESUME (1).docx'\n",
            "'HARISH BABU N K-ECE-VCET-RESUME (1).gdoc'\n",
            "'HARISH BABU N K-ECE-VCET-RESUME.docx'\n",
            "'HARISH BABU N K-ECE-VCET-RESUME.gdoc'\n",
            "'HARISH BABU N K-ECE-VCET-RESUME.pdf'\n",
            " Hospital-Management-Html-master.zip\n",
            "'ibm_assignment_2 (1).ipynb'\n",
            "'ibm_assignment_2 (2).ipynb'\n",
            " ibm_assignment_2.ipynb\n",
            "'ibm assignment 3.ipynb'\n",
            " IMG-20211112-WA0014.jpg\n",
            " project.docx\n",
            "'Quiz App-1.docx'\n",
            "'validation .gdoc'\n",
            "'validation .html'\n"
          ]
        }
      ]
    },
    {
      "cell_type": "code",
      "source": [
        "from google.colab import drive\n",
        "drive.mount('/content/drive')"
      ],
      "metadata": {
        "id": "mUrqAgNh6MoW",
        "outputId": "e80819ed-9970-4a6c-fbd4-1d0bf9fd4422",
        "colab": {
          "base_uri": "https://localhost:8080/"
        }
      },
      "execution_count": null,
      "outputs": [
        {
          "output_type": "stream",
          "name": "stdout",
          "text": [
            "Drive already mounted at /content/drive; to attempt to forcibly remount, call drive.mount(\"/content/drive\", force_remount=True).\n"
          ]
        }
      ]
    },
    {
      "cell_type": "markdown",
      "source": [
        "unzip the folder"
      ],
      "metadata": {
        "id": "GoGVk-hE_Jde"
      }
    },
    {
      "cell_type": "code",
      "source": [
        "cd /content/drive/MyDrive"
      ],
      "metadata": {
        "id": "vj9od_DYBsIW",
        "outputId": "8050c7a1-db09-4d2d-a6ba-a321886fac6e",
        "colab": {
          "base_uri": "https://localhost:8080/"
        }
      },
      "execution_count": null,
      "outputs": [
        {
          "output_type": "stream",
          "name": "stdout",
          "text": [
            "/content/drive/MyDrive\n"
          ]
        }
      ]
    },
    {
      "cell_type": "code",
      "source": [
        "!unzip Flowers-Dataset.zip"
      ],
      "metadata": {
        "id": "5Fw2GHWPCFeb",
        "outputId": "54d4da9b-d652-4805-ace9-cbe45a0bf312",
        "colab": {
          "base_uri": "https://localhost:8080/"
        }
      },
      "execution_count": null,
      "outputs": [
        {
          "output_type": "stream",
          "name": "stdout",
          "text": [
            "Archive:  Flowers-Dataset.zip\n",
            "replace flowers/daisy/100080576_f52e8ee070_n.jpg? [y]es, [n]o, [A]ll, [N]one, [r]ename: "
          ]
        }
      ]
    },
    {
      "cell_type": "code",
      "source": [
        "ls"
      ],
      "metadata": {
        "id": "u89HT4nWCXng",
        "colab": {
          "base_uri": "https://localhost:8080/"
        },
        "outputId": "5471f30a-4b9c-4c90-d0a2-9c5c8f968138"
      },
      "execution_count": null,
      "outputs": [
        {
          "output_type": "stream",
          "name": "stdout",
          "text": [
            " 11th_English_EM_Sigarum_toduvom_by_Jeeva.pdf\n",
            " 1615209687936.docx\n",
            " 16IT014_022_025_ProjectReport.docx\n",
            " 16IT014_022_025_ProjectReport.pdf\n",
            " 16IT014_022_025_Viva.pptx\n",
            " 1b36661ece7e9a9dccfa88dd8f39c361.jpg\n",
            "'4007 (Dharsa MD ) CN (1).pdf'\n",
            "'4007 (Dharsa MD ) CN (2).pdf'\n",
            "'4007 (Dharsa MD ) CN (3).pdf'\n",
            "'4007 (Dharsa MD ) CN.pdf'\n",
            "'4007(Dharsa MD ) CS8501.pdf'\n",
            "'4007(Dharsa MD) Maths Assignment .pdf'\n",
            "'4007( Dharsa MD ) OMD552.pdf'\n",
            "'4007(M.D.Dharsa) CIT-3 CSC 2nd year (3).pdf'\n",
            " 4AUMS.pdf\n",
            "'910719104007-CN assignment (1).pdf'\n",
            "'910719104007-CN assignment.pdf'\n",
            "'910719104007(CS8491) (1).pdf'\n",
            "'910719104007(CS8491) (2).pdf'\n",
            "'910719104007(CS8491) (3).pdf'\n",
            "'910719104007(CS8491).pdf'\n",
            "'(910719104007)(CS8493).pdf'\n",
            "'(910719104007)(CS8494) (1).pdf'\n",
            "'(910719104007)(CS8494) (2).pdf'\n",
            "'(910719104007)(CS8494) (3).pdf'\n",
            "'(910719104007)(CS8494) (4).pdf'\n",
            "'(910719104007)(CS8494) (5).pdf'\n",
            "'(910719104007)(CS8494).pdf'\n",
            " 910719104007_CS8591.pdf\n",
            "'910719104007(HS8381) .pdf'\n",
            "'910719104007(MA8402) .pdf'\n",
            "'assignment 3 (1).ipynb'\n",
            "'Assignment_3 (1).ipynb'\n",
            "'assignment 3.ipynb'\n",
            " Assignment_3.ipynb\n",
            "'CA-U-4-QA (1).pdf'\n",
            "'CA-U-4-QA (2).pdf'\n",
            " CA-U-4-QA.pdf\n",
            "'certificate (8).pdf'\n",
            "'CIT -2 probablity.gdoc'\n",
            " \u001b[0m\u001b[01;34mClassroom\u001b[0m/\n",
            "\u001b[01;34m'Colab Notebooks'\u001b[0m/\n",
            "'DAA CIT-1.pdf'\n",
            "'Database management system unit 1 .pdf'\n",
            "'DCB BANK MOD 2021 02 KARTHICK_Updated.docx'\n",
            "'Dharsa MD (2Yr cse) .pdf'\n",
            "'Dharsa MD.pdf'\n",
            "'DHARSA MD RESUME 2022 (1).docx'\n",
            "'DHARSA MD RESUME 2022 (2).docx'\n",
            "'DHARSA MD RESUME 2022 (3).docx'\n",
            "'DHARSA MD RESUME 2022.docx'\n",
            "'E-book management system ppt.pptx'\n",
            "'Elec rules 3.jpg'\n",
            "'ex .jpg'\n",
            "'file_1617268258065 (1).pdf'\n",
            "'file_1617268258065 (2).pdf'\n",
            "'file_1617268258065 (3).pdf'\n",
            " file_1617268258065.pdf\n",
            " \u001b[01;34mflowers\u001b[0m/\n",
            " Flowers-Dataset.zip\n",
            " flowers.h5\n",
            " \u001b[01;34mflowers.hs\u001b[0m/\n",
            "'Getting started.pdf'\n",
            "'HARISH BABU N K-ECE-VCET-RESUME (1).docx'\n",
            "'HARISH BABU N K-ECE-VCET-RESUME (1).gdoc'\n",
            "'HARISH BABU N K-ECE-VCET-RESUME.docx'\n",
            "'HARISH BABU N K-ECE-VCET-RESUME.gdoc'\n",
            "'HARISH BABU N K-ECE-VCET-RESUME.pdf'\n",
            " Hospital-Management-Html-master.zip\n",
            "'ibm_assignment_2 (1).ipynb'\n",
            "'ibm_assignment_2 (2).ipynb'\n",
            " ibm_assignment_2.ipynb\n",
            "'ibm assignment 3.ipynb'\n",
            " IMG-20211112-WA0014.jpg\n",
            " project.docx\n",
            "'Quiz App-1.docx'\n",
            "'validation .gdoc'\n",
            "'validation .html'\n"
          ]
        }
      ]
    },
    {
      "cell_type": "code",
      "source": [
        "pwd"
      ],
      "metadata": {
        "id": "R6HVBZW4Fknb",
        "outputId": "12fd817a-c0a0-483c-99f8-69dc1a096f51",
        "colab": {
          "base_uri": "https://localhost:8080/",
          "height": 36
        }
      },
      "execution_count": null,
      "outputs": [
        {
          "output_type": "execute_result",
          "data": {
            "text/plain": [
              "'/content/drive/MyDrive'"
            ],
            "application/vnd.google.colaboratory.intrinsic+json": {
              "type": "string"
            }
          },
          "metadata": {},
          "execution_count": 76
        }
      ]
    },
    {
      "cell_type": "markdown",
      "source": [
        "*IMAGE* *AUGMENTATION*"
      ],
      "metadata": {
        "id": "BTT0hJyIGM0f"
      }
    },
    {
      "cell_type": "code",
      "source": [
        "from tensorflow.keras.preprocessing.image import ImageDataGenerator"
      ],
      "metadata": {
        "id": "3gelYQA_GP9g"
      },
      "execution_count": null,
      "outputs": []
    },
    {
      "cell_type": "code",
      "source": [
        "train_datagen = ImageDataGenerator(rescale=1./255,zoom_range=0.2,horizontal_flip=True,vertical_flip=True)"
      ],
      "metadata": {
        "id": "9kHTD7cEGxH9"
      },
      "execution_count": null,
      "outputs": []
    },
    {
      "cell_type": "code",
      "source": [
        "test_datagen = ImageDataGenerator(rescale=1./255)"
      ],
      "metadata": {
        "id": "BnCvpj3cGxJe"
      },
      "execution_count": null,
      "outputs": []
    },
    {
      "cell_type": "code",
      "source": [
        "ls"
      ],
      "metadata": {
        "id": "PuUJS4U3G5Od",
        "colab": {
          "base_uri": "https://localhost:8080/"
        },
        "outputId": "056dfb09-127b-4068-f7c8-a1b2a939a1ef"
      },
      "execution_count": null,
      "outputs": [
        {
          "output_type": "stream",
          "name": "stdout",
          "text": [
            " 11th_English_EM_Sigarum_toduvom_by_Jeeva.pdf\n",
            " 1615209687936.docx\n",
            " 16IT014_022_025_ProjectReport.docx\n",
            " 16IT014_022_025_ProjectReport.pdf\n",
            " 16IT014_022_025_Viva.pptx\n",
            " 1b36661ece7e9a9dccfa88dd8f39c361.jpg\n",
            "'4007 (Dharsa MD ) CN (1).pdf'\n",
            "'4007 (Dharsa MD ) CN (2).pdf'\n",
            "'4007 (Dharsa MD ) CN (3).pdf'\n",
            "'4007 (Dharsa MD ) CN.pdf'\n",
            "'4007(Dharsa MD ) CS8501.pdf'\n",
            "'4007(Dharsa MD) Maths Assignment .pdf'\n",
            "'4007( Dharsa MD ) OMD552.pdf'\n",
            "'4007(M.D.Dharsa) CIT-3 CSC 2nd year (3).pdf'\n",
            " 4AUMS.pdf\n",
            "'910719104007-CN assignment (1).pdf'\n",
            "'910719104007-CN assignment.pdf'\n",
            "'910719104007(CS8491) (1).pdf'\n",
            "'910719104007(CS8491) (2).pdf'\n",
            "'910719104007(CS8491) (3).pdf'\n",
            "'910719104007(CS8491).pdf'\n",
            "'(910719104007)(CS8493).pdf'\n",
            "'(910719104007)(CS8494) (1).pdf'\n",
            "'(910719104007)(CS8494) (2).pdf'\n",
            "'(910719104007)(CS8494) (3).pdf'\n",
            "'(910719104007)(CS8494) (4).pdf'\n",
            "'(910719104007)(CS8494) (5).pdf'\n",
            "'(910719104007)(CS8494).pdf'\n",
            " 910719104007_CS8591.pdf\n",
            "'910719104007(HS8381) .pdf'\n",
            "'910719104007(MA8402) .pdf'\n",
            "'assignment 3 (1).ipynb'\n",
            "'Assignment_3 (1).ipynb'\n",
            "'assignment 3.ipynb'\n",
            " Assignment_3.ipynb\n",
            "'CA-U-4-QA (1).pdf'\n",
            "'CA-U-4-QA (2).pdf'\n",
            " CA-U-4-QA.pdf\n",
            "'certificate (8).pdf'\n",
            "'CIT -2 probablity.gdoc'\n",
            " \u001b[0m\u001b[01;34mClassroom\u001b[0m/\n",
            "\u001b[01;34m'Colab Notebooks'\u001b[0m/\n",
            "'DAA CIT-1.pdf'\n",
            "'Database management system unit 1 .pdf'\n",
            "'DCB BANK MOD 2021 02 KARTHICK_Updated.docx'\n",
            "'Dharsa MD (2Yr cse) .pdf'\n",
            "'Dharsa MD.pdf'\n",
            "'DHARSA MD RESUME 2022 (1).docx'\n",
            "'DHARSA MD RESUME 2022 (2).docx'\n",
            "'DHARSA MD RESUME 2022 (3).docx'\n",
            "'DHARSA MD RESUME 2022.docx'\n",
            "'E-book management system ppt.pptx'\n",
            "'Elec rules 3.jpg'\n",
            "'ex .jpg'\n",
            "'file_1617268258065 (1).pdf'\n",
            "'file_1617268258065 (2).pdf'\n",
            "'file_1617268258065 (3).pdf'\n",
            " file_1617268258065.pdf\n",
            " \u001b[01;34mflowers\u001b[0m/\n",
            " Flowers-Dataset.zip\n",
            " flowers.h5\n",
            " \u001b[01;34mflowers.hs\u001b[0m/\n",
            "'Getting started.pdf'\n",
            "'HARISH BABU N K-ECE-VCET-RESUME (1).docx'\n",
            "'HARISH BABU N K-ECE-VCET-RESUME (1).gdoc'\n",
            "'HARISH BABU N K-ECE-VCET-RESUME.docx'\n",
            "'HARISH BABU N K-ECE-VCET-RESUME.gdoc'\n",
            "'HARISH BABU N K-ECE-VCET-RESUME.pdf'\n",
            " Hospital-Management-Html-master.zip\n",
            "'ibm_assignment_2 (1).ipynb'\n",
            "'ibm_assignment_2 (2).ipynb'\n",
            " ibm_assignment_2.ipynb\n",
            "'ibm assignment 3.ipynb'\n",
            " IMG-20211112-WA0014.jpg\n",
            " project.docx\n",
            "'Quiz App-1.docx'\n",
            "'validation .gdoc'\n",
            "'validation .html'\n"
          ]
        }
      ]
    },
    {
      "cell_type": "code",
      "source": [
        "pwd"
      ],
      "metadata": {
        "id": "yHJkUaYDIGEF",
        "outputId": "717714ae-9843-458a-fa0e-294a10463aa1",
        "colab": {
          "base_uri": "https://localhost:8080/",
          "height": 36
        }
      },
      "execution_count": null,
      "outputs": [
        {
          "output_type": "execute_result",
          "data": {
            "text/plain": [
              "'/content/drive/MyDrive'"
            ],
            "application/vnd.google.colaboratory.intrinsic+json": {
              "type": "string"
            }
          },
          "metadata": {},
          "execution_count": 81
        }
      ]
    },
    {
      "cell_type": "code",
      "source": [
        "x_train=train_datagen.flow_from_directory(r'/content/drive/MyDrive/flowers',target_size=(64,64),class_mode=\"categorical\",batch_size=24)"
      ],
      "metadata": {
        "id": "4s1CqV89IIpz",
        "outputId": "92925a6d-8b8d-41c5-a93a-9a112772923a",
        "colab": {
          "base_uri": "https://localhost:8080/"
        }
      },
      "execution_count": null,
      "outputs": [
        {
          "output_type": "stream",
          "name": "stdout",
          "text": [
            "Found 4317 images belonging to 5 classes.\n"
          ]
        }
      ]
    },
    {
      "cell_type": "code",
      "source": [
        "x_test=test_datagen.flow_from_directory(r'/content/drive/MyDrive/flowers',target_size=(64,64),class_mode=\"categorical\",batch_size=24)"
      ],
      "metadata": {
        "id": "fZPHohO5MZhe",
        "outputId": "ef047705-91f3-4644-8fad-32c68c928c80",
        "colab": {
          "base_uri": "https://localhost:8080/"
        }
      },
      "execution_count": null,
      "outputs": [
        {
          "output_type": "stream",
          "name": "stdout",
          "text": [
            "Found 4317 images belonging to 5 classes.\n"
          ]
        }
      ]
    },
    {
      "cell_type": "code",
      "source": [
        "x_train.class_indices"
      ],
      "metadata": {
        "id": "b-yjgND2PHRZ",
        "outputId": "d2a1d2a9-33d2-46b0-d693-a64ecfdc40cf",
        "colab": {
          "base_uri": "https://localhost:8080/"
        }
      },
      "execution_count": null,
      "outputs": [
        {
          "output_type": "execute_result",
          "data": {
            "text/plain": [
              "{'daisy': 0, 'dandelion': 1, 'rose': 2, 'sunflower': 3, 'tulip': 4}"
            ]
          },
          "metadata": {},
          "execution_count": 84
        }
      ]
    },
    {
      "cell_type": "markdown",
      "source": [
        "CNN"
      ],
      "metadata": {
        "id": "4dwFx9hIP58l"
      }
    },
    {
      "cell_type": "code",
      "source": [
        "from tensorflow.keras.models import Sequential\n",
        "from tensorflow.keras.layers import Dense,Convolution2D,MaxPooling2D,Flatten"
      ],
      "metadata": {
        "id": "VbvwIq74P9Hd"
      },
      "execution_count": null,
      "outputs": []
    },
    {
      "cell_type": "markdown",
      "source": [
        "*CREATE MODEL*"
      ],
      "metadata": {
        "id": "xgh2oj6fN37i"
      }
    },
    {
      "cell_type": "code",
      "source": [
        "model=Sequential()"
      ],
      "metadata": {
        "id": "ZsqVz5ZhQwA3"
      },
      "execution_count": null,
      "outputs": []
    },
    {
      "cell_type": "markdown",
      "source": [
        "*CONVOLUTION LAYER*"
      ],
      "metadata": {
        "id": "zl89rzvIOENC"
      }
    },
    {
      "cell_type": "code",
      "source": [
        "model.add(Convolution2D(32,(3,3),input_shape=(64,64,3),activation=\"relu\"))"
      ],
      "metadata": {
        "id": "YMa5vOnqRHsS"
      },
      "execution_count": null,
      "outputs": []
    },
    {
      "cell_type": "markdown",
      "source": [
        "*MAXPOOLING*"
      ],
      "metadata": {
        "id": "kuhl554iOCn6"
      }
    },
    {
      "cell_type": "code",
      "source": [
        "model.add(MaxPooling2D(pool_size=(2,2)))"
      ],
      "metadata": {
        "id": "-4sA1DKvTi26"
      },
      "execution_count": null,
      "outputs": []
    },
    {
      "cell_type": "markdown",
      "source": [
        "*FLATTEN*"
      ],
      "metadata": {
        "id": "EqqekZYBOddy"
      }
    },
    {
      "cell_type": "code",
      "source": [
        "model.add(Flatten())"
      ],
      "metadata": {
        "id": "u5V3OOVXT94d"
      },
      "execution_count": null,
      "outputs": []
    },
    {
      "cell_type": "markdown",
      "source": [
        "*OUTPUT OF CONVOLUTION , MAXPOOLING, FLATTEN LAYER*"
      ],
      "metadata": {
        "id": "0kZubIDSOr_r"
      }
    },
    {
      "cell_type": "code",
      "source": [
        "model.summary()"
      ],
      "metadata": {
        "id": "Owo8WAtFUItm",
        "outputId": "a691fba1-958c-4d4e-abc8-5fce128bd3cf",
        "colab": {
          "base_uri": "https://localhost:8080/"
        }
      },
      "execution_count": null,
      "outputs": [
        {
          "output_type": "stream",
          "name": "stdout",
          "text": [
            "Model: \"sequential\"\n",
            "_________________________________________________________________\n",
            " Layer (type)                Output Shape              Param #   \n",
            "=================================================================\n",
            " conv2d (Conv2D)             (None, 62, 62, 32)        896       \n",
            "                                                                 \n",
            " max_pooling2d (MaxPooling2D  (None, 31, 31, 32)       0         \n",
            " )                                                               \n",
            "                                                                 \n",
            " flatten (Flatten)           (None, 30752)             0         \n",
            "                                                                 \n",
            "=================================================================\n",
            "Total params: 896\n",
            "Trainable params: 896\n",
            "Non-trainable params: 0\n",
            "_________________________________________________________________\n"
          ]
        }
      ]
    },
    {
      "cell_type": "code",
      "source": [
        "32*(3*3*3+1)"
      ],
      "metadata": {
        "id": "4bfljy4LUm02",
        "outputId": "b5afae4f-8ed1-4d9a-f07c-460fb4728bc8",
        "colab": {
          "base_uri": "https://localhost:8080/"
        }
      },
      "execution_count": null,
      "outputs": [
        {
          "output_type": "execute_result",
          "data": {
            "text/plain": [
              "896"
            ]
          },
          "metadata": {},
          "execution_count": 22
        }
      ]
    },
    {
      "cell_type": "markdown",
      "source": [
        "Hidden Layers"
      ],
      "metadata": {
        "id": "oUkSw4kiVx2i"
      }
    },
    {
      "cell_type": "markdown",
      "source": [
        "*DENSE LAYER*"
      ],
      "metadata": {
        "id": "JnyWL5jrO_lm"
      }
    },
    {
      "cell_type": "code",
      "source": [
        "model.add(Dense(300,activation='relu'))\n",
        "model.add(Dense(150,activation='relu'))"
      ],
      "metadata": {
        "id": "oPz8LqG7WAKl"
      },
      "execution_count": null,
      "outputs": []
    },
    {
      "cell_type": "markdown",
      "source": [
        "output layers"
      ],
      "metadata": {
        "id": "53SnJDHqWWt5"
      }
    },
    {
      "cell_type": "code",
      "source": [
        "model.add(Dense(4,activation='softmax'))"
      ],
      "metadata": {
        "id": "jmIw3pZZWZ9a"
      },
      "execution_count": null,
      "outputs": []
    },
    {
      "cell_type": "markdown",
      "source": [
        "*COMPILE THE MODEL*"
      ],
      "metadata": {
        "id": "m2M22ExYPYKe"
      }
    },
    {
      "cell_type": "code",
      "source": [
        "model.compile(loss='categorical_crossentropy',optimizer='adam',metrics=['accuracy'])"
      ],
      "metadata": {
        "id": "JI3Xy4j9W9K8"
      },
      "execution_count": null,
      "outputs": []
    },
    {
      "cell_type": "code",
      "source": [
        "len(x_train)"
      ],
      "metadata": {
        "id": "XRbo3aSjXlaZ",
        "outputId": "f4b96252-43cf-4b30-df25-8c7e81c80eaf",
        "colab": {
          "base_uri": "https://localhost:8080/"
        }
      },
      "execution_count": null,
      "outputs": [
        {
          "output_type": "execute_result",
          "data": {
            "text/plain": [
              "180"
            ]
          },
          "metadata": {},
          "execution_count": 26
        }
      ]
    },
    {
      "cell_type": "markdown",
      "source": [
        "saving model"
      ],
      "metadata": {
        "id": "veXGco-wdYqw"
      }
    },
    {
      "cell_type": "code",
      "source": [
        "model.save('flowers.h5')"
      ],
      "metadata": {
        "id": "hFst5fVade7I"
      },
      "execution_count": null,
      "outputs": []
    },
    {
      "cell_type": "code",
      "source": [
        "ls"
      ],
      "metadata": {
        "id": "k0tWGlCyicvn",
        "outputId": "2314b567-53f7-494a-c31f-5ac595575b9f",
        "colab": {
          "base_uri": "https://localhost:8080/"
        }
      },
      "execution_count": null,
      "outputs": [
        {
          "output_type": "stream",
          "name": "stdout",
          "text": [
            " 11th_English_EM_Sigarum_toduvom_by_Jeeva.pdf\n",
            " 1615209687936.docx\n",
            " 16IT014_022_025_ProjectReport.docx\n",
            " 16IT014_022_025_ProjectReport.pdf\n",
            " 16IT014_022_025_Viva.pptx\n",
            " 1b36661ece7e9a9dccfa88dd8f39c361.jpg\n",
            "'4007 (Dharsa MD ) CN (1).pdf'\n",
            "'4007 (Dharsa MD ) CN (2).pdf'\n",
            "'4007 (Dharsa MD ) CN (3).pdf'\n",
            "'4007 (Dharsa MD ) CN.pdf'\n",
            "'4007(Dharsa MD ) CS8501.pdf'\n",
            "'4007(Dharsa MD) Maths Assignment .pdf'\n",
            "'4007( Dharsa MD ) OMD552.pdf'\n",
            "'4007(M.D.Dharsa) CIT-3 CSC 2nd year (3).pdf'\n",
            " 4AUMS.pdf\n",
            "'910719104007-CN assignment (1).pdf'\n",
            "'910719104007-CN assignment.pdf'\n",
            "'910719104007(CS8491) (1).pdf'\n",
            "'910719104007(CS8491) (2).pdf'\n",
            "'910719104007(CS8491) (3).pdf'\n",
            "'910719104007(CS8491).pdf'\n",
            "'(910719104007)(CS8493).pdf'\n",
            "'(910719104007)(CS8494) (1).pdf'\n",
            "'(910719104007)(CS8494) (2).pdf'\n",
            "'(910719104007)(CS8494) (3).pdf'\n",
            "'(910719104007)(CS8494) (4).pdf'\n",
            "'(910719104007)(CS8494) (5).pdf'\n",
            "'(910719104007)(CS8494).pdf'\n",
            " 910719104007_CS8591.pdf\n",
            "'910719104007(HS8381) .pdf'\n",
            "'910719104007(MA8402) .pdf'\n",
            "'assignment 3 (1).ipynb'\n",
            "'assignment 3.ipynb'\n",
            " Assignment_3.ipynb\n",
            "'CA-U-4-QA (1).pdf'\n",
            "'CA-U-4-QA (2).pdf'\n",
            " CA-U-4-QA.pdf\n",
            "'certificate (8).pdf'\n",
            "'CIT -2 probablity.gdoc'\n",
            " \u001b[0m\u001b[01;34mClassroom\u001b[0m/\n",
            "\u001b[01;34m'Colab Notebooks'\u001b[0m/\n",
            "'DAA CIT-1.pdf'\n",
            "'Database management system unit 1 .pdf'\n",
            "'DCB BANK MOD 2021 02 KARTHICK_Updated.docx'\n",
            "'Dharsa MD (2Yr cse) .pdf'\n",
            "'Dharsa MD.pdf'\n",
            "'DHARSA MD RESUME 2022 (1).docx'\n",
            "'DHARSA MD RESUME 2022 (2).docx'\n",
            "'DHARSA MD RESUME 2022 (3).docx'\n",
            "'DHARSA MD RESUME 2022.docx'\n",
            "'E-book management system ppt.pptx'\n",
            "'Elec rules 3.jpg'\n",
            "'ex .jpg'\n",
            "'file_1617268258065 (1).pdf'\n",
            "'file_1617268258065 (2).pdf'\n",
            "'file_1617268258065 (3).pdf'\n",
            " file_1617268258065.pdf\n",
            " \u001b[01;34mflowers\u001b[0m/\n",
            " Flowers-Dataset.zip\n",
            " flowers.h5\n",
            " \u001b[01;34mflowers.hs\u001b[0m/\n",
            "'Getting started.pdf'\n",
            "'HARISH BABU N K-ECE-VCET-RESUME (1).docx'\n",
            "'HARISH BABU N K-ECE-VCET-RESUME (1).gdoc'\n",
            "'HARISH BABU N K-ECE-VCET-RESUME.docx'\n",
            "'HARISH BABU N K-ECE-VCET-RESUME.gdoc'\n",
            "'HARISH BABU N K-ECE-VCET-RESUME.pdf'\n",
            " Hospital-Management-Html-master.zip\n",
            "'ibm_assignment_2 (1).ipynb'\n",
            "'ibm_assignment_2 (2).ipynb'\n",
            " ibm_assignment_2.ipynb\n",
            "'ibm assignment 3.ipynb'\n",
            " IMG-20211112-WA0014.jpg\n",
            " project.docx\n",
            "'Quiz App-1.docx'\n",
            "'validation .gdoc'\n",
            "'validation .html'\n"
          ]
        }
      ]
    },
    {
      "cell_type": "markdown",
      "source": [
        "test model"
      ],
      "metadata": {
        "id": "gbT-OVL8iols"
      }
    },
    {
      "cell_type": "code",
      "source": [
        "import numpy as np\n",
        "from tensorflow.keras.models import load_model\n",
        "from tensorflow.keras.preprocessing import image"
      ],
      "metadata": {
        "id": "L_VxsxWgisn7"
      },
      "execution_count": null,
      "outputs": []
    },
    {
      "cell_type": "code",
      "source": [
        "model=load_model('flowers.hs')"
      ],
      "metadata": {
        "id": "RBcII2v0mLwX"
      },
      "execution_count": null,
      "outputs": []
    },
    {
      "cell_type": "code",
      "source": [
        "img=image.load_img(r'/content/drive/MyDrive/flowers/sunflower/10386503264_e05387e1f7_m.jpg')"
      ],
      "metadata": {
        "id": "6RY5DL9zmYfc"
      },
      "execution_count": null,
      "outputs": []
    },
    {
      "cell_type": "code",
      "source": [
        "img"
      ],
      "metadata": {
        "colab": {
          "base_uri": "https://localhost:8080/",
          "height": 248
        },
        "id": "4bYMSfv6FfAr",
        "outputId": "c241578d-7f6c-4eeb-83ef-39350d6d8217"
      },
      "execution_count": null,
      "outputs": [
        {
          "output_type": "execute_result",
          "data": {
            "text/plain": [
              "<PIL.JpegImagePlugin.JpegImageFile image mode=RGB size=240x231 at 0x7FDE0A0CF2D0>"
            ],
            "image/png": "[encoded data removed]"
          },
          "metadata": {},
          "execution_count": 37
        }
      ]
    },
    {
      "cell_type": "code",
      "source": [
        "x=image.img_to_array(img)\n"
      ],
      "metadata": {
        "id": "tY6xNNHeFqRS"
      },
      "execution_count": null,
      "outputs": []
    },
    {
      "cell_type": "code",
      "source": [
        "x"
      ],
      "metadata": {
        "colab": {
          "base_uri": "https://localhost:8080/"
        },
        "id": "gieKcM0EFvE5",
        "outputId": "63dd9b79-6914-4e60-eb11-2cd53ead8ec2"
      },
      "execution_count": null,
      "outputs": [
        {
          "output_type": "execute_result",
          "data": {
            "text/plain": [
              "array([[[144., 125.,   5.],\n",
              "        [108., 128.,  41.],\n",
              "        [123., 133.,  21.],\n",
              "        ...,\n",
              "        [121., 133.,  21.],\n",
              "        [128., 139.,  35.],\n",
              "        [ 86.,  90.,   3.]],\n",
              "\n",
              "       [[113., 148.,   2.],\n",
              "        [ 37.,  93., 242.],\n",
              "        [ 41.,  90., 227.],\n",
              "        ...,\n",
              "        [ 58., 115., 231.],\n",
              "        [ 68., 120., 242.],\n",
              "        [ 51.,  62.,  54.]],\n",
              "\n",
              "       [[149., 143.,  21.],\n",
              "        [ 44.,  95., 220.],\n",
              "        [ 55., 105., 190.],\n",
              "        ...,\n",
              "        [ 77., 118., 197.],\n",
              "        [ 71., 130., 248.],\n",
              "        [ 55.,  66.,  36.]],\n",
              "\n",
              "       ...,\n",
              "\n",
              "       [[141., 145.,   6.],\n",
              "        [  2.,  13.,  15.],\n",
              "        [ 27.,  41.,  24.],\n",
              "        ...,\n",
              "        [110., 151.,  75.],\n",
              "        [128., 171., 100.],\n",
              "        [ 53.,  66.,  12.]],\n",
              "\n",
              "       [[149., 151.,  24.],\n",
              "        [  0.,  10.,   6.],\n",
              "        [ 11.,  24.,   0.],\n",
              "        ...,\n",
              "        [129., 172., 100.],\n",
              "        [138., 184., 119.],\n",
              "        [ 67.,  85.,  35.]],\n",
              "\n",
              "       [[102.,  97.,   3.],\n",
              "        [ 33.,  41.,  20.],\n",
              "        [ 53.,  61.,  12.],\n",
              "        ...,\n",
              "        [ 34.,  48.,   0.],\n",
              "        [ 43.,  61.,  13.],\n",
              "        [ 35.,  24.,   0.]]], dtype=float32)"
            ]
          },
          "metadata": {},
          "execution_count": 44
        }
      ]
    },
    {
      "cell_type": "code",
      "source": [
        "img=image.load_img(r'/content/drive/MyDrive/flowers/sunflower/10386503264_e05387e1f7_m.jpg',target_size=(64,64))"
      ],
      "metadata": {
        "id": "Ch6u-y7DGAG5"
      },
      "execution_count": null,
      "outputs": []
    },
    {
      "cell_type": "code",
      "source": [
        "img"
      ],
      "metadata": {
        "colab": {
          "base_uri": "https://localhost:8080/",
          "height": 81
        },
        "id": "L9ryWiQtGHQ4",
        "outputId": "a9ccb444-c080-4cf5-994c-fc339cda9620"
      },
      "execution_count": null,
      "outputs": [
        {
          "output_type": "execute_result",
          "data": {
            "text/plain": [
              "<PIL.Image.Image image mode=RGB size=64x64 at 0x7FDE0AD71CD0>"
            ],
            "image/png": "[encoded data removed]"
          },
          "metadata": {},
          "execution_count": 48
        }
      ]
    },
    {
      "cell_type": "code",
      "source": [
        "x_train.class_indices"
      ],
      "metadata": {
        "colab": {
          "base_uri": "https://localhost:8080/"
        },
        "id": "1zklMc1vJLt1",
        "outputId": "3f903b36-5dba-4f57-f60b-ab1f62bfb5bb"
      },
      "execution_count": null,
      "outputs": [
        {
          "output_type": "execute_result",
          "data": {
            "text/plain": [
              "{'daisy': 0, 'dandelion': 1, 'rose': 2, 'sunflower': 3, 'tulip': 4}"
            ]
          },
          "metadata": {},
          "execution_count": 54
        }
      ]
    },
    {
      "cell_type": "code",
      "source": [
        "x=image.img_to_array(img)\n",
        "x=np.expand_dims(x,axis=0)"
      ],
      "metadata": {
        "id": "G47daSvJQMEv"
      },
      "execution_count": null,
      "outputs": []
    },
    {
      "cell_type": "code",
      "source": [
        "pred_prob=model.predict(x)"
      ],
      "metadata": {
        "id": "ctU1QIg6RUo4"
      },
      "execution_count": null,
      "outputs": []
    },
    {
      "cell_type": "code",
      "source": [
        "class_name=[\"Daisy\",\"Dandelion\",\"Rose\",\"Sunflower\",\"Tulip\"]"
      ],
      "metadata": {
        "id": "Xb9SbSBVRZfT"
      },
      "execution_count": null,
      "outputs": []
    },
    {
      "cell_type": "code",
      "source": [
        "pred_id=pred_prob.argmax(axis=1)[0]\n",
        "pred_id"
      ],
      "metadata": {
        "colab": {
          "base_uri": "https://localhost:8080/"
        },
        "id": "bUTBHTQeRbdj",
        "outputId": "ec29006e-df61-4fff-ab5f-c6c921854033"
      },
      "execution_count": null,
      "outputs": [
        {
          "output_type": "execute_result",
          "data": {
            "text/plain": [
              "0"
            ]
          },
          "metadata": {},
          "execution_count": 69
        }
      ]
    },
    {
      "cell_type": "code",
      "source": [
        "print(\"Predicted flower is\",str(class_name[pred_id]))"
      ],
      "metadata": {
        "colab": {
          "base_uri": "https://localhost:8080/"
        },
        "id": "W32yDpNdRiNk",
        "outputId": "89aef75e-304b-46f4-96c8-e06cd6e67752"
      },
      "execution_count": null,
      "outputs": [
        {
          "output_type": "stream",
          "name": "stdout",
          "text": [
            "Predicted flower is Daisy\n"
          ]
        }
      ]
    }
  ],
  "metadata": {
    "colab": {
      "collapsed_sections": [],
      "provenance": []
    },
    "kernelspec": {
      "display_name": "Python 3",
      "name": "python3"
    }
  },
  "nbformat": 4,
  "nbformat_minor": 0
}